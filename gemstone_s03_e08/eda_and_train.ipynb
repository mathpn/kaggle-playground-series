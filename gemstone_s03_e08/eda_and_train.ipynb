{
 "cells": [
  {
   "cell_type": "code",
   "execution_count": null,
   "metadata": {},
   "outputs": [],
   "source": [
    "import numpy as np\n",
    "import pandas as pd\n",
    "import seaborn as sns\n",
    "import matplotlib.pyplot as plt\n"
   ]
  },
  {
   "cell_type": "code",
   "execution_count": null,
   "metadata": {},
   "outputs": [],
   "source": [
    "train_data = pd.read_csv(\"./data/train.csv\")\n",
    "test_data = pd.read_csv(\"./data/test.csv\")\n",
    "\n",
    "y_train = train_data.pop(\"price\")\n",
    "\n",
    "n_train = len(train_data)\n",
    "all_data = pd.concat((train_data, test_data), axis=0)\n"
   ]
  },
  {
   "cell_type": "code",
   "execution_count": null,
   "metadata": {},
   "outputs": [],
   "source": [
    "all_data.head()"
   ]
  },
  {
   "cell_type": "code",
   "execution_count": null,
   "metadata": {},
   "outputs": [],
   "source": [
    "ax = sns.histplot(y_train, kde=True)"
   ]
  },
  {
   "cell_type": "code",
   "execution_count": null,
   "metadata": {},
   "outputs": [],
   "source": [
    "from scipy import stats\n",
    "\n",
    "y_train_log = np.log1p(y_train)\n",
    "sns.histplot(y_train_log, kde=True)\n",
    "plt.show()\n",
    "ax = stats.probplot(y_train_log, plot=plt)\n",
    "plt.show()\n"
   ]
  },
  {
   "cell_type": "code",
   "execution_count": null,
   "metadata": {},
   "outputs": [],
   "source": [
    "numeric_columns = all_data.select_dtypes(include=[np.number]).columns.drop(\"id\")\n",
    "n_cols = int(np.ceil(len(numeric_columns) / 3))\n",
    "\n",
    "fig, ax = plt.subplots(nrows=3, ncols=n_cols, figsize=(10, 10), squeeze=False)\n",
    "for i, col_name in enumerate(numeric_columns):\n",
    "    row = i // n_cols\n",
    "    col = i % n_cols\n",
    "    sns.histplot(all_data[col_name], kde=False, ax=ax[row][col])\n",
    "    ax[row][col].set_title(col_name)\n",
    "plt.tight_layout()\n",
    "plt.show()\n"
   ]
  },
  {
   "cell_type": "code",
   "execution_count": null,
   "metadata": {},
   "outputs": [],
   "source": [
    "numeric_columns = all_data.select_dtypes(include=[np.number]).columns.drop(\"id\")\n",
    "n_cols = int(np.ceil(len(numeric_columns) / 2))\n",
    "\n",
    "fig, ax = plt.subplots(nrows=2, ncols=n_cols, figsize=(8, 8), squeeze=False)\n",
    "for i, col_name in enumerate(numeric_columns):\n",
    "    row = i // n_cols\n",
    "    col = i % n_cols\n",
    "    sns.boxplot(\n",
    "        y=train_data[col_name], x=(y_train_log > y_train_log.median()).astype(int), ax=ax[row][col]\n",
    "    )\n",
    "    ax[row][col].set_title(col_name)\n",
    "plt.tight_layout()\n",
    "plt.show()\n"
   ]
  },
  {
   "cell_type": "code",
   "execution_count": null,
   "metadata": {},
   "outputs": [],
   "source": [
    "categorical_columns = all_data.select_dtypes(include=\"object\").columns\n",
    "fig, axes = plt.subplots(ncols=3, figsize=(12, 4), squeeze=True)\n",
    "\n",
    "for col_name, ax in zip(categorical_columns, axes):\n",
    "    sns.boxplot(y=y_train_log, x=train_data[col_name], ax=ax)\n",
    "    ax.set_title(col_name)\n",
    "    ax.set_axis_on()\n",
    "\n",
    "plt.tight_layout()\n",
    "plt.show()\n"
   ]
  },
  {
   "cell_type": "code",
   "execution_count": null,
   "metadata": {},
   "outputs": [],
   "source": [
    "ax = sns.jointplot(x=train_data[\"carat\"], y=y_train_log, kind=\"hex\")\n",
    "plt.show()\n",
    "ax = sns.jointplot(x=train_data[\"carat\"], y=y_train_log, hue=train_data[\"clarity\"], alpha=0.5)\n"
   ]
  }
 ],
 "metadata": {
  "kernelspec": {
   "display_name": "base",
   "language": "python",
   "name": "python3"
  },
  "language_info": {
   "codemirror_mode": {
    "name": "ipython",
    "version": 3
   },
   "file_extension": ".py",
   "mimetype": "text/x-python",
   "name": "python",
   "nbconvert_exporter": "python",
   "pygments_lexer": "ipython3",
   "version": "3.10.8"
  },
  "orig_nbformat": 4,
  "vscode": {
   "interpreter": {
    "hash": "9db47ae5badfead9fd39188fd18ff2ce368bc487d9efee61e4db9417ef6acdbc"
   }
  }
 },
 "nbformat": 4,
 "nbformat_minor": 2
}
