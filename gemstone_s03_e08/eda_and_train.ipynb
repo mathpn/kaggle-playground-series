{
 "cells": [
  {
   "cell_type": "code",
   "execution_count": null,
   "metadata": {},
   "outputs": [],
   "source": [
    "import numpy as np\n",
    "import pandas as pd\n",
    "import seaborn as sns\n",
    "import matplotlib.pyplot as plt\n"
   ]
  },
  {
   "cell_type": "code",
   "execution_count": null,
   "metadata": {},
   "outputs": [],
   "source": [
    "train_data = pd.read_csv(\"./data/train.csv\")\n",
    "test_data = pd.read_csv(\"./data/test.csv\")\n",
    "\n",
    "y_train = train_data.pop(\"price\")\n",
    "\n",
    "n_train = len(train_data)\n",
    "all_data = pd.concat((train_data, test_data), axis=0)\n"
   ]
  },
  {
   "cell_type": "code",
   "execution_count": null,
   "metadata": {},
   "outputs": [],
   "source": [
    "all_data.head()"
   ]
  },
  {
   "cell_type": "code",
   "execution_count": null,
   "metadata": {},
   "outputs": [],
   "source": [
    "ax = sns.histplot(y_train, kde=True)"
   ]
  },
  {
   "cell_type": "code",
   "execution_count": null,
   "metadata": {},
   "outputs": [],
   "source": [
    "from scipy import stats\n",
    "\n",
    "y_train_log = np.log1p(y_train)\n",
    "sns.histplot(y_train_log, kde=True)\n",
    "plt.show()\n",
    "ax = stats.probplot(y_train_log, plot=plt)\n",
    "plt.show()\n"
   ]
  },
  {
   "cell_type": "code",
   "execution_count": null,
   "metadata": {},
   "outputs": [],
   "source": [
    "numeric_columns = all_data.select_dtypes(include=[np.number]).columns.drop(\"id\")\n",
    "n_cols = int(np.ceil(len(numeric_columns) / 3))\n",
    "\n",
    "fig, ax = plt.subplots(nrows=3, ncols=n_cols, figsize=(10, 10), squeeze=False)\n",
    "for i, col_name in enumerate(numeric_columns):\n",
    "    row = i // n_cols\n",
    "    col = i % n_cols\n",
    "    sns.histplot(all_data[col_name], kde=False, ax=ax[row][col])\n",
    "    ax[row][col].set_title(col_name)\n",
    "plt.tight_layout()\n",
    "plt.show()\n"
   ]
  },
  {
   "cell_type": "code",
   "execution_count": null,
   "metadata": {},
   "outputs": [],
   "source": [
    "numeric_columns = all_data.select_dtypes(include=[np.number]).columns.drop(\"id\")\n",
    "n_cols = int(np.ceil(len(numeric_columns) / 2))\n",
    "\n",
    "fig, ax = plt.subplots(nrows=2, ncols=n_cols, figsize=(8, 8), squeeze=False)\n",
    "for i, col_name in enumerate(numeric_columns):\n",
    "    row = i // n_cols\n",
    "    col = i % n_cols\n",
    "    sns.boxplot(\n",
    "        y=train_data[col_name], x=(y_train_log > y_train_log.median()).astype(int), ax=ax[row][col]\n",
    "    )\n",
    "    ax[row][col].set_title(col_name)\n",
    "plt.tight_layout()\n",
    "plt.show()\n"
   ]
  },
  {
   "cell_type": "code",
   "execution_count": null,
   "metadata": {},
   "outputs": [],
   "source": [
    "categorical_columns = all_data.select_dtypes(include=\"object\").columns\n",
    "fig, axes = plt.subplots(ncols=3, figsize=(14, 4), squeeze=True)\n",
    "\n",
    "\n",
    "orders = {\n",
    "    \"cut\": [\"Ideal\", \"Premium\", \"Very Good\", \"Good\", \"Fair\"],\n",
    "    \"color\": [\"D\", \"E\", \"F\", \"G\", \"H\", \"I\", \"J\"],\n",
    "    \"clarity\": [\"FL\", \"IF\", \"VVS1\", \"VVS2\", \"VS1\", \"VS2\", \"SI1\", \"SI2\", \"I1\", \"I2\", \"I3\"],\n",
    "}\n",
    "\n",
    "\n",
    "for col_name, ax in zip(categorical_columns, axes):\n",
    "    sns.boxplot(y=y_train, x=train_data[col_name], ax=ax, order=orders[col_name])\n",
    "    ax.set_title(col_name)\n",
    "    ax.set_axis_on()\n",
    "\n",
    "plt.tight_layout()\n",
    "plt.show()\n"
   ]
  },
  {
   "attachments": {},
   "cell_type": "markdown",
   "metadata": {},
   "source": [
    "It's interesting that worse cuts, colors and clarities present a tendency of higher prices. This is completely unintuitive. Likely, this is explained by the interaction with other variables. For instance, good clarity gemstones may be smaller on average, driving the price down."
   ]
  },
  {
   "cell_type": "code",
   "execution_count": null,
   "metadata": {},
   "outputs": [],
   "source": [
    "ax = sns.jointplot(x=train_data[\"carat\"], y=y_train_log, kind=\"hex\")\n",
    "plt.show()\n",
    "ax = sns.jointplot(x=train_data[\"carat\"], y=y_train_log, hue=train_data[\"clarity\"], hue_order=orders[\"clarity\"], alpha=0.5)\n"
   ]
  },
  {
   "cell_type": "code",
   "execution_count": null,
   "metadata": {},
   "outputs": [],
   "source": [
    "all_data[\"volume\"] = all_data[\"x\"] * all_data[\"y\"] * all_data[\"z\"]\n",
    "all_data[\"volume\"].round(2)\n",
    "\n",
    "ax = sns.jointplot(x=all_data.iloc[:n_train][\"volume\"], y=y_train_log, hue=all_data.iloc[:n_train][\"clarity\"], hue_order=orders[\"clarity\"], alpha=0.5)"
   ]
  },
  {
   "attachments": {},
   "cell_type": "markdown",
   "metadata": {},
   "source": [
    "For the same volume or carat, we can see that there's a tendency that gemstones with worse clarities have lower prices."
   ]
  },
  {
   "attachments": {},
   "cell_type": "markdown",
   "metadata": {},
   "source": [
    "Let's encode ordinal variables and add new variables based on the existing ones. Check XXX for more details about the new variables."
   ]
  },
  {
   "cell_type": "code",
   "execution_count": null,
   "metadata": {},
   "outputs": [],
   "source": [
    "# https://www.kaggle.com/competitions/playground-series-s3e8/discussion/389207\n",
    "\n",
    "orders_dict = {\n",
    "    k: {vv: i for i, vv in enumerate(v)}\n",
    "    for k, v in orders.items()\n",
    "}\n",
    "\n",
    "all_data['cut'] = all_data['cut'].apply(lambda x: orders_dict[\"cut\"][x])\n",
    "all_data['color'] = all_data['color'].apply(lambda x:orders_dict[\"color\"][x])\n",
    "all_data['clarity'] = all_data['clarity'].apply(lambda x:orders_dict[\"clarity\"][x])\n",
    "all_data[\"volume\"] = all_data[\"x\"] * all_data[\"y\"] * all_data[\"z\"]\n",
    "all_data[\"surface_area\"] = 2 * (all_data[\"x\"] * all_data[\"y\"] + all_data[\"y\"] * all_data[\"z\"] + all_data[\"z\"] * all_data[\"x\"])\n",
    "# all_data[\"aspect_ratio_xy\"] = all_data[\"x\"] / all_data[\"y\"]\n",
    "# all_data[\"aspect_ratio_yz\"] = all_data[\"y\"] / all_data[\"z\"]\n",
    "# all_data[\"aspect_ratio_zx\"] = all_data[\"z\"] / all_data[\"x\"]\n",
    "all_data[\"diagonal_distance\"] = np.sqrt(all_data[\"x\"] ** 2 + all_data[\"y\"] ** 2 + all_data[\"z\"] ** 2)\n",
    "all_data[\"relative_height\"] = (all_data[\"z\"] - all_data[\"z\"].min()) / (all_data[\"z\"].max() - all_data[\"z\"].min())\n",
    "all_data[\"relative_position\"] = (all_data[\"x\"] + all_data[\"y\"] + all_data[\"z\"]) / (all_data[\"x\"] + all_data[\"y\"] + all_data[\"z\"]).sum()\n",
    "all_data[\"volume_ratio\"] = all_data[\"x\"] * all_data[\"y\"] * all_data[\"z\"] / (all_data[\"x\"].mean() * all_data[\"y\"].mean() * all_data[\"z\"].mean())\n",
    "all_data[\"length_ratio\"] = all_data[\"x\"] / all_data[\"x\"].mean()\n",
    "all_data[\"width_ratio\"] = all_data[\"y\"] / all_data[\"y\"].mean()\n",
    "all_data[\"height_ratio\"] = all_data[\"z\"] / all_data[\"z\"].mean()\n",
    "all_data[\"sphericity\"] = 1.4641 * (6 * all_data[\"volume\"])**(2/3) / (1e-4 + all_data[\"surface_area\"])\n",
    "# all_data[\"compactness\"] = all_data[\"volume\"]**(1/3) / all_data[\"x\"]"
   ]
  },
  {
   "cell_type": "code",
   "execution_count": null,
   "metadata": {},
   "outputs": [],
   "source": [
    "import multiprocessing\n",
    "\n",
    "import xgboost as xgb\n",
    "from sklearn.model_selection import GridSearchCV\n",
    "from sklearn.metrics import mean_squared_error\n",
    "\n",
    "def rmse(y, pred):\n",
    "    return np.sqrt(mean_squared_error(y, pred))\n",
    "\n",
    "\n",
    "model = xgb.XGBRegressor(n_jobs=multiprocessing.cpu_count() // 2, eval_metric=rmse)\n",
    "clf = GridSearchCV(\n",
    "    model,\n",
    "    {\"max_depth\": [3, 4], \"n_estimators\": [1_000, 2_500, 5_000, 10_000]},\n",
    "    verbose=1,\n",
    "    n_jobs=2,\n",
    "    scoring=\"neg_root_mean_squared_error\",\n",
    ")\n",
    "\n",
    "clf.fit(all_data.iloc[:n_train], y_train)\n",
    "print(clf.best_score_)\n",
    "print(clf.best_params_)"
   ]
  }
 ],
 "metadata": {
  "kernelspec": {
   "display_name": "base",
   "language": "python",
   "name": "python3"
  },
  "language_info": {
   "codemirror_mode": {
    "name": "ipython",
    "version": 3
   },
   "file_extension": ".py",
   "mimetype": "text/x-python",
   "name": "python",
   "nbconvert_exporter": "python",
   "pygments_lexer": "ipython3",
   "version": "3.10.8"
  },
  "orig_nbformat": 4,
  "vscode": {
   "interpreter": {
    "hash": "9db47ae5badfead9fd39188fd18ff2ce368bc487d9efee61e4db9417ef6acdbc"
   }
  }
 },
 "nbformat": 4,
 "nbformat_minor": 2
}
