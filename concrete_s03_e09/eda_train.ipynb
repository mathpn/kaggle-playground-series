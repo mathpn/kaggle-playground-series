{
 "cells": [
  {
   "cell_type": "code",
   "execution_count": null,
   "metadata": {},
   "outputs": [],
   "source": [
    "import numpy as np\n",
    "import pandas as pd\n",
    "import seaborn as sns\n",
    "import matplotlib.pyplot as plt"
   ]
  },
  {
   "cell_type": "code",
   "execution_count": null,
   "metadata": {},
   "outputs": [],
   "source": [
    "from dataprep.eda import create_report\n",
    "\n",
    "train_df = pd.read_csv(\"./data/train.csv\")\n",
    "test_df = pd.read_csv(\"./data/test.csv\")\n",
    "\n",
    "y = train_df[\"Strength\"]\n",
    "n_train = len(train_df)\n",
    "all_data = pd.concat((train_df, test_df), axis=0)\n",
    "all_data.pop(\"Strength\")\n",
    "\n",
    "all_data.head()"
   ]
  },
  {
   "cell_type": "code",
   "execution_count": null,
   "metadata": {},
   "outputs": [],
   "source": [
    "create_report(train_df)"
   ]
  },
  {
   "cell_type": "code",
   "execution_count": null,
   "metadata": {},
   "outputs": [],
   "source": [
    "zero_cols = [\"BlastFurnaceSlag\", \"FlyAshComponent\", \"SuperplasticizerComponent\"]\n",
    "for col in zero_cols:\n",
    "    all_data[f\"Has{col}\"] = (all_data[col] > 0).astype(int)\n",
    "\n",
    "all_data.head()"
   ]
  },
  {
   "cell_type": "code",
   "execution_count": null,
   "metadata": {},
   "outputs": [],
   "source": [
    "from sklearn.metrics import mean_squared_error, r2_score\n",
    "from sklearn.model_selection import train_test_split\n",
    "import statsmodels.api as sm\n",
    "\n",
    "\n",
    "train_data = all_data.iloc[:n_train]\n",
    "\n",
    "X_train, X_val, y_train, y_val = train_test_split(train_data, y, test_size=0.1)\n",
    "\n",
    "model = sm.OLS(y_train, sm.add_constant(X_train)).fit()\n",
    "# model = model.fit(X_train, y_train)\n",
    "pred_val = model.predict(sm.add_constant(X_val))\n",
    "rmse = np.sqrt(mean_squared_error(pred_val, y_val))\n",
    "print(model.summary())\n",
    "print()\n",
    "print(f\"RMSE: {rmse:.3f}\")"
   ]
  }
 ],
 "metadata": {
  "kernelspec": {
   "display_name": "base",
   "language": "python",
   "name": "python3"
  },
  "language_info": {
   "codemirror_mode": {
    "name": "ipython",
    "version": 3
   },
   "file_extension": ".py",
   "mimetype": "text/x-python",
   "name": "python",
   "nbconvert_exporter": "python",
   "pygments_lexer": "ipython3",
   "version": "3.10.8"
  },
  "orig_nbformat": 4
 },
 "nbformat": 4,
 "nbformat_minor": 2
}
