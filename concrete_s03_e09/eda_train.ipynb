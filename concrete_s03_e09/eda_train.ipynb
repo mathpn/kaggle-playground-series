{
 "cells": [
  {
   "cell_type": "code",
   "execution_count": null,
   "metadata": {},
   "outputs": [],
   "source": [
    "import numpy as np\n",
    "import pandas as pd\n",
    "import seaborn as sns\n",
    "import matplotlib.pyplot as plt"
   ]
  },
  {
   "cell_type": "code",
   "execution_count": null,
   "metadata": {},
   "outputs": [],
   "source": [
    "from dataprep.eda import create_report\n",
    "\n",
    "train_df = pd.read_csv(\"./data/train.csv\")\n",
    "test_df = pd.read_csv(\"./data/test.csv\")\n",
    "\n",
    "y = train_df[\"Strength\"]\n",
    "n_train = len(train_df)\n",
    "all_data = pd.concat((train_df, test_df), axis=0)\n",
    "all_data.pop(\"Strength\")\n",
    "\n",
    "all_data.head()"
   ]
  },
  {
   "cell_type": "code",
   "execution_count": null,
   "metadata": {},
   "outputs": [],
   "source": [
    "create_report(train_df)"
   ]
  },
  {
   "cell_type": "code",
   "execution_count": null,
   "metadata": {},
   "outputs": [],
   "source": [
    "zero_cols = [\"BlastFurnaceSlag\", \"FlyAshComponent\", \"SuperplasticizerComponent\"]\n",
    "for col in zero_cols:\n",
    "    all_data[f\"Has{col}\"] = (all_data[col] > 0).astype(int)\n",
    "\n",
    "all_data.head()"
   ]
  },
  {
   "cell_type": "code",
   "execution_count": null,
   "metadata": {},
   "outputs": [],
   "source": [
    "import lightgbm as lgbm\n",
    "from sklearn.metrics import mean_squared_error\n",
    "from sklearn.model_selection import train_test_split\n",
    "\n",
    "\n",
    "lgbm_params = {\n",
    "    'objective': 'regression',\n",
    "    'metric': 'rmse',\n",
    "    'feature_pre_filter': False,\n",
    "    'lambda_l1': 0.2,\n",
    "    'lambda_l2': 1e-05,\n",
    "    'num_leaves': 5,\n",
    "    'feature_fraction': 0.9,\n",
    "    'bagging_fraction': 0.7,\n",
    "    'bagging_freq': 7,\n",
    "    'min_child_samples': 25,\n",
    "    'num_iterations': 200,\n",
    "    'early_stopping_round': 100,\n",
    "}\n",
    "\n",
    "X = all_data.iloc[:n_train].drop(columns=[\"id\"])\n",
    "X_train, X_val, y_train, y_val = train_test_split(X, y, test_size=0.2, random_state=42)\n",
    "lgb_train = lgbm.Dataset(X_train, y_train)\n",
    "lgb_eval = lgbm.Dataset(X_val, y_val, reference=lgb_train)\n",
    "evaluation_results = {}                       \n",
    "model_lgbm = lgbm.train(\n",
    "    lgbm_params,\n",
    "    valid_names=['train', 'valid'],           \n",
    "    valid_sets=[lgb_train, lgb_eval],        \n",
    "    evals_result=evaluation_results,          \n",
    "    train_set=lgb_train\n",
    ")"
   ]
  },
  {
   "cell_type": "code",
   "execution_count": null,
   "metadata": {},
   "outputs": [],
   "source": [
    "test_data = all_data.iloc[n_train:]\n",
    "\n",
    "lgbm_pred = model_lgbm.predict(test_data.drop(columns=['id'] , axis=1))\n",
    "submission = pd.DataFrame({\"id\": test_data[\"id\"], \"Strength\": lgbm_pred})\n",
    "submission.to_csv(\"./data/lgbm_submission.csv\", index=False)"
   ]
  }
 ],
 "metadata": {
  "kernelspec": {
   "display_name": "base",
   "language": "python",
   "name": "python3"
  },
  "language_info": {
   "codemirror_mode": {
    "name": "ipython",
    "version": 3
   },
   "file_extension": ".py",
   "mimetype": "text/x-python",
   "name": "python",
   "nbconvert_exporter": "python",
   "pygments_lexer": "ipython3",
   "version": "3.10.8"
  },
  "orig_nbformat": 4
 },
 "nbformat": 4,
 "nbformat_minor": 2
}
