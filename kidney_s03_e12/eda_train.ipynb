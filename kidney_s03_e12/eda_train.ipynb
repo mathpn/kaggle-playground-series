{
 "cells": [
  {
   "cell_type": "code",
   "execution_count": null,
   "metadata": {},
   "outputs": [],
   "source": [
    "import numpy as np\n",
    "import pandas as pd\n",
    "import seaborn as sns\n",
    "import matplotlib.pyplot as plt"
   ]
  },
  {
   "cell_type": "code",
   "execution_count": null,
   "metadata": {},
   "outputs": [],
   "source": [
    "from dataprep.eda import create_report\n",
    "\n",
    "train_df = pd.read_csv(\"./data/train.csv\")\n",
    "test_df = pd.read_csv(\"./data/test.csv\")\n",
    "\n",
    "y = train_df[\"target\"]\n",
    "n_train = len(train_df)\n",
    "all_data = pd.concat((train_df, test_df), axis=0)\n",
    "all_data.pop(\"target\")\n",
    "\n",
    "all_data.head()"
   ]
  },
  {
   "cell_type": "code",
   "execution_count": null,
   "metadata": {},
   "outputs": [],
   "source": [
    "create_report(train_df)"
   ]
  },
  {
   "cell_type": "code",
   "execution_count": null,
   "metadata": {},
   "outputs": [],
   "source": [
    "fig, ax = plt.subplots(nrows=2, ncols=3, figsize=(8, 6))\n",
    "\n",
    "sns.boxplot(data=train_df, x=\"target\", y=\"gravity\", ax=ax[0][0])\n",
    "sns.boxplot(data=train_df, x=\"target\", y=\"ph\", ax=ax[0][1])\n",
    "sns.boxplot(data=train_df, x=\"target\", y=\"osmo\", ax=ax[0][2])\n",
    "sns.boxplot(data=train_df, x=\"target\", y=\"cond\", ax=ax[1][0])\n",
    "sns.boxplot(data=train_df, x=\"target\", y=\"urea\", ax=ax[1][1])\n",
    "sns.boxplot(data=train_df, x=\"target\", y=\"calc\", ax=ax[1][2])\n",
    "plt.tight_layout()"
   ]
  },
  {
   "cell_type": "code",
   "execution_count": null,
   "metadata": {},
   "outputs": [],
   "source": [
    "import lightgbm as lgbm\n",
    "import optuna\n",
    "from sklearn.metrics import roc_auc_score\n",
    "from sklearn.model_selection import StratifiedKFold\n",
    "\n",
    "\n",
    "lgbm_params = {\n",
    "    \"random_state\": 42,\n",
    "    \"objective\": \"binary\",\n",
    "    \"metric\": \"auc\",\n",
    "    \"n_estimators\": 1000,\n",
    "    \"verbosity\": -1,\n",
    "    \"early_stopping_round\": 100,\n",
    "    #############\n",
    "    # \"lambda_l1\": 0.2,\n",
    "    # \"lambda_l2\": 1e-05,\n",
    "    # \"num_leaves\": 5,\n",
    "    # \"feature_fraction\": 0.9,\n",
    "    # \"bagging_fraction\": 0.7,\n",
    "    # \"bagging_freq\": 7,\n",
    "    # \"min_child_samples\": 25,\n",
    "    # \"num_iterations\": 200,\n",
    "    # \"early_stopping_round\": 100,\n",
    "}\n",
    "\n",
    "X = all_data.iloc[:n_train].drop(columns=[\"id\"])\n",
    "\n",
    "\n",
    "def objective(trial):\n",
    "    params = {\n",
    "        **lgbm_params,\n",
    "        \"reg_alpha\": trial.suggest_float(\"reg_alpha\", 1e-3, 50.0, log=True),\n",
    "        \"reg_lambda\": trial.suggest_float(\"reg_lambda\", 1e-3, 50.0, log=True),\n",
    "        \"num_leaves\": trial.suggest_int(\"num_leaves\", 5, 64),\n",
    "        \"max_depth\": trial.suggest_int(\"max_depth\", 1, 5),\n",
    "        \"learning_rate\": trial.suggest_float(\"learning_rate\", 1e-3, 0.1, log=True),\n",
    "        \"feature_fraction\": trial.suggest_float(\"feature_fraction\", 0.5, 1.0),\n",
    "        \"bagging_fraction\": trial.suggest_float(\"bagging_fraction\", 0.5, 1.0),\n",
    "        \"bagging_freq\": trial.suggest_int(\"bagging_freq\", 0, 10),\n",
    "        \"min_child_samples\": trial.suggest_int(\"min_child_samples\", 1, 50),\n",
    "    }\n",
    "    model = lgbm.LGBMClassifier(**params)\n",
    "    skf = StratifiedKFold(n_splits=8, random_state=42, shuffle=True)\n",
    "    metrics = []\n",
    "    evals_result = {}\n",
    "    for train, test in skf.split(X, y):\n",
    "        X_train = X.iloc[train]\n",
    "        X_test = X.iloc[test]\n",
    "        y_train = y.iloc[train]\n",
    "        y_test = y.iloc[test]\n",
    "        lgbm_train = lgbm.Dataset(X_train, y_train)\n",
    "        lgbm_test = lgbm.Dataset(X_test, y_test)\n",
    "        model = lgbm.train(\n",
    "            params,\n",
    "            valid_names=[\"train\", \"test\"],\n",
    "            valid_sets=[lgbm_train, lgbm_test],\n",
    "            evals_result=evals_result,\n",
    "            train_set=lgbm_train,\n",
    "            verbose_eval=False,\n",
    "        )\n",
    "        pred = model.predict(X_test)\n",
    "        metrics.append(roc_auc_score(y_test, pred))\n",
    "    return np.mean(metrics)\n",
    "\n",
    "\n",
    "study = optuna.create_study(direction=\"maximize\")\n",
    "study.optimize(objective, n_trials=250)\n"
   ]
  },
  {
   "cell_type": "code",
   "execution_count": null,
   "metadata": {},
   "outputs": [],
   "source": [
    "print(f\"best study ROC AUC: {study.best_value:.4f}\")"
   ]
  },
  {
   "cell_type": "code",
   "execution_count": null,
   "metadata": {},
   "outputs": [],
   "source": [
    "from sklearn.model_selection import train_test_split\n",
    "\n",
    "\n",
    "X_train, X_test, y_train, y_test = train_test_split(X, y, test_size=0.2, random_state=42, stratify=y)\n",
    "\n",
    "lgbm_train = lgbm.Dataset(X_train, y_train)\n",
    "lgbm_test = lgbm.Dataset(X_test, y_test)\n",
    "model = lgbm.train(\n",
    "    {**lgbm_params, **study.best_params},\n",
    "    valid_names=[\"train\", \"test\"],\n",
    "    valid_sets=[lgbm_train, lgbm_test],\n",
    "    train_set=lgbm_train,\n",
    "    verbose_eval=False,\n",
    ")\n",
    "pred = model.predict(X_test)\n",
    "roc = roc_auc_score(y_test, pred)\n",
    "print(f\"ROC AUC: {roc:.4f}\")"
   ]
  },
  {
   "cell_type": "code",
   "execution_count": null,
   "metadata": {},
   "outputs": [],
   "source": [
    "submission = pd.read_csv(\"./data/sample_submission.csv\")\n",
    "pred = model.predict(test_df.drop(\"id\", axis=1))\n",
    "submission[\"target\"] = pred\n",
    "\n",
    "submission.to_csv(\"./data/lgbm_submission.csv\", index=False)"
   ]
  }
 ],
 "metadata": {
  "kernelspec": {
   "display_name": "base",
   "language": "python",
   "name": "python3"
  },
  "language_info": {
   "codemirror_mode": {
    "name": "ipython",
    "version": 3
   },
   "file_extension": ".py",
   "mimetype": "text/x-python",
   "name": "python",
   "nbconvert_exporter": "python",
   "pygments_lexer": "ipython3",
   "version": "3.10.8"
  },
  "orig_nbformat": 4
 },
 "nbformat": 4,
 "nbformat_minor": 2
}
